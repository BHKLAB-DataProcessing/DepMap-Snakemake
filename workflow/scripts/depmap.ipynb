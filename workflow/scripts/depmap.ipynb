{
 "cells": [
  {
   "cell_type": "code",
   "execution_count": 48,
   "metadata": {},
   "outputs": [],
   "source": [
    "from pathlib import Path\n",
    "import shutil, os\n",
    "import pandas as pd\n",
    "from snakemake.remote.HTTP import RemoteProvider as HTTPRemoteProvider\n",
    "HTTP = HTTPRemoteProvider()\n",
    "from pprint import pprint as pp"
   ]
  },
  {
   "cell_type": "code",
   "execution_count": 33,
   "metadata": {},
   "outputs": [],
   "source": [
    "csv = pd.read_csv(\"/home/bioinf/bhklab/jermiah/psets/PharmacoSet-Pipelines/DEPMAP/metadata/depmap_fileList.csv\")"
   ]
  },
  {
   "cell_type": "code",
   "execution_count": 59,
   "metadata": {},
   "outputs": [
    {
     "name": "stderr",
     "output_type": "stream",
     "text": [
      "/tmp/ipykernel_3828518/3886597905.py:8: SettingWithCopyWarning: \n",
      "A value is trying to be set on a copy of a slice from a DataFrame.\n",
      "Try using .loc[row_indexer,col_indexer] = value instead\n",
      "\n",
      "See the caveats in the documentation: https://pandas.pydata.org/pandas-docs/stable/user_guide/indexing.html#returning-a-view-versus-a-copy\n",
      "  depmap[\"release_Q\"] = depmap.release.str.replace(\"DepMap Public\", \"\").str.strip()\n"
     ]
    },
    {
     "data": {
      "text/html": [
       "<div>\n",
       "<style scoped>\n",
       "    .dataframe tbody tr th:only-of-type {\n",
       "        vertical-align: middle;\n",
       "    }\n",
       "\n",
       "    .dataframe tbody tr th {\n",
       "        vertical-align: top;\n",
       "    }\n",
       "\n",
       "    .dataframe thead th {\n",
       "        text-align: right;\n",
       "    }\n",
       "</style>\n",
       "<table border=\"1\" class=\"dataframe\">\n",
       "  <thead>\n",
       "    <tr style=\"text-align: right;\">\n",
       "      <th></th>\n",
       "      <th>release</th>\n",
       "      <th>release_date</th>\n",
       "      <th>filename</th>\n",
       "      <th>url</th>\n",
       "      <th>md5_hash</th>\n",
       "      <th>release_Q</th>\n",
       "    </tr>\n",
       "  </thead>\n",
       "  <tbody>\n",
       "    <tr>\n",
       "      <th>0</th>\n",
       "      <td>DepMap Public 23Q4</td>\n",
       "      <td>2023-11-20</td>\n",
       "      <td>README.txt</td>\n",
       "      <td>https://ndownloader.figshare.com/files/43347678</td>\n",
       "      <td>4d2dae9dedf976048eab4827643bdf79</td>\n",
       "      <td>23Q4</td>\n",
       "    </tr>\n",
       "    <tr>\n",
       "      <th>1</th>\n",
       "      <td>DepMap Public 23Q4</td>\n",
       "      <td>2023-11-20</td>\n",
       "      <td>ScreenGeneEffect.csv</td>\n",
       "      <td>https://ndownloader.figshare.com/files/43347738</td>\n",
       "      <td>b9dfbcacc6077afdbdf6dfa2f4cdf9f3</td>\n",
       "      <td>23Q4</td>\n",
       "    </tr>\n",
       "    <tr>\n",
       "      <th>2</th>\n",
       "      <td>DepMap Public 23Q4</td>\n",
       "      <td>2023-11-20</td>\n",
       "      <td>ScreenGeneEffectUncorrected.csv</td>\n",
       "      <td>https://ndownloader.figshare.com/files/43347750</td>\n",
       "      <td>a143942e36d172a4afc31dd75470886a</td>\n",
       "      <td>23Q4</td>\n",
       "    </tr>\n",
       "    <tr>\n",
       "      <th>3</th>\n",
       "      <td>DepMap Public 23Q4</td>\n",
       "      <td>2023-11-20</td>\n",
       "      <td>ScreenNaiveGeneScore.csv</td>\n",
       "      <td>https://ndownloader.figshare.com/files/43347798</td>\n",
       "      <td>265f8372e9cd0fad56c1a6b66b8a783d</td>\n",
       "      <td>23Q4</td>\n",
       "    </tr>\n",
       "    <tr>\n",
       "      <th>4</th>\n",
       "      <td>DepMap Public 23Q4</td>\n",
       "      <td>2023-11-20</td>\n",
       "      <td>ScreenGeneDependency.csv</td>\n",
       "      <td>https://ndownloader.figshare.com/files/43347693</td>\n",
       "      <td>8116b5377032a4836719d64179b55f84</td>\n",
       "      <td>23Q4</td>\n",
       "    </tr>\n",
       "  </tbody>\n",
       "</table>\n",
       "</div>"
      ],
      "text/plain": [
       "              release release_date                         filename  \\\n",
       "0  DepMap Public 23Q4   2023-11-20                       README.txt   \n",
       "1  DepMap Public 23Q4   2023-11-20             ScreenGeneEffect.csv   \n",
       "2  DepMap Public 23Q4   2023-11-20  ScreenGeneEffectUncorrected.csv   \n",
       "3  DepMap Public 23Q4   2023-11-20         ScreenNaiveGeneScore.csv   \n",
       "4  DepMap Public 23Q4   2023-11-20         ScreenGeneDependency.csv   \n",
       "\n",
       "                                               url  \\\n",
       "0  https://ndownloader.figshare.com/files/43347678   \n",
       "1  https://ndownloader.figshare.com/files/43347738   \n",
       "2  https://ndownloader.figshare.com/files/43347750   \n",
       "3  https://ndownloader.figshare.com/files/43347798   \n",
       "4  https://ndownloader.figshare.com/files/43347693   \n",
       "\n",
       "                           md5_hash release_Q  \n",
       "0  4d2dae9dedf976048eab4827643bdf79      23Q4  \n",
       "1  b9dfbcacc6077afdbdf6dfa2f4cdf9f3      23Q4  \n",
       "2  a143942e36d172a4afc31dd75470886a      23Q4  \n",
       "3  265f8372e9cd0fad56c1a6b66b8a783d      23Q4  \n",
       "4  8116b5377032a4836719d64179b55f84      23Q4  "
      ]
     },
     "execution_count": 59,
     "metadata": {},
     "output_type": "execute_result"
    }
   ],
   "source": [
    "csv.head()\n",
    "\n",
    "\n",
    "# get all rows where first column start with \"DepMap Public\" \n",
    "depmap = csv[csv.iloc[:,0].str.startswith(\"DepMap Public\")]\n",
    "\n",
    "# create new column removing \"DepMap Public\" from first column\n",
    "depmap[\"release_Q\"] = depmap.release.str.replace(\"DepMap Public\", \"\").str.strip()\n",
    "\n",
    "depmap.head()"
   ]
  },
  {
   "cell_type": "code",
   "execution_count": 84,
   "metadata": {},
   "outputs": [],
   "source": [
    "# group by release_Q \n",
    "grouped = depmap.groupby(\"release_Q\")\n",
    "\n",
    "# create a dictionary for each group with the filename as key, and the url as `url` value and group.md5_has as `md5` and if md5 is blank then `None`\n",
    "release_dict = {\n",
    "    name: {\n",
    "        k: {\n",
    "            \"url\": url, \n",
    "            \"md5\": md5 if md5 != \" \" else None\n",
    "        } for k, url, md5 in group[['filename', 'url', 'md5_hash']].to_dict(orient='split')['data']\n",
    "    } for name, group in grouped if int(name[0:2]) >= 21}\n",
    "\n",
    "# print release_dict 23Q4\n",
    "# pp(release_dict[\"22Q1\"])\n"
   ]
  },
  {
   "cell_type": "code",
   "execution_count": 89,
   "metadata": {},
   "outputs": [
    {
     "data": {
      "text/plain": [
       "dict_keys(['21Q1', '21Q2', '21Q3', '21Q4', '22Q1', '22Q2', '22Q4', '23Q2', '23Q4'])"
      ]
     },
     "execution_count": 89,
     "metadata": {},
     "output_type": "execute_result"
    }
   ],
   "source": [
    "release_dict.keys()"
   ]
  },
  {
   "cell_type": "code",
   "execution_count": 86,
   "metadata": {},
   "outputs": [
    {
     "name": "stdout",
     "output_type": "stream",
     "text": [
      "21Q1 :\n",
      "21Q1 README.txt {'url': 'https://ndownloader.figshare.com/files/26261566', 'md5': nan}\n",
      "21Q1 sample_info.csv {'url': 'https://ndownloader.figshare.com/files/26261569', 'md5': nan}\n",
      "21Q2 :\n",
      "21Q2 README {'url': 'https://ndownloader.figshare.com/files/27902373', 'md5': nan}\n",
      "21Q2 sample_info.csv {'url': 'https://ndownloader.figshare.com/files/27902376', 'md5': nan}\n",
      "21Q3 :\n",
      "21Q3 README.txt {'url': 'https://ndownloader.figshare.com/files/29125329', 'md5': nan}\n",
      "21Q3 sample_info_v2.csv {'url': 'https://ndownloader.figshare.com/files/31839590', 'md5': nan}\n",
      "21Q4 :\n",
      "21Q4 README.txt {'url': 'https://ndownloader.figshare.com/files/31316008', 'md5': nan}\n",
      "21Q4 sample_info.csv {'url': 'https://ndownloader.figshare.com/files/31316011', 'md5': nan}\n",
      "22Q1 :\n",
      "22Q1 README.txt {'url': 'https://ndownloader.figshare.com/files/34008500', 'md5': nan}\n",
      "22Q1 sample_info.csv {'url': 'https://ndownloader.figshare.com/files/34008503', 'md5': nan}\n",
      "22Q2 :\n",
      "22Q2 README.txt {'url': 'https://ndownloader.figshare.com/files/34990054', 'md5': 'd415bd268980832d115553eac967be86'}\n",
      "22Q2 sample_info.csv {'url': 'https://ndownloader.figshare.com/files/35020903', 'md5': '0a485aebbbea895cd150e3d8b622c167'}\n",
      "22Q4 :\n",
      "22Q4 README.txt {'url': 'https://ndownloader.figshare.com/files/38357510', 'md5': '5c429c63da6ab77efa27dee820e8db2a'}\n",
      "23Q2 :\n",
      "23Q2 README.txt {'url': 'https://ndownloader.figshare.com/files/40473113', 'md5': 'e425d5a9e85a6090770cfe725b957d92'}\n",
      "23Q4 :\n",
      "23Q4 README.txt {'url': 'https://ndownloader.figshare.com/files/43347678', 'md5': '4d2dae9dedf976048eab4827643bdf79'}\n"
     ]
    }
   ],
   "source": [
    "x = 0\n",
    "for k, v in release_dict.items():\n",
    "    # 22 or 23\n",
    "    if(True):\n",
    "        print(k, \":\")\n",
    "        for file, info in v.items():\n",
    "            if(file.startswith(\"README\")):\n",
    "                print(k, file, info)\n",
    "            if(file.startswith(\"sample_info\")):\n",
    "                print(k, file, info)\n",
    "\n",
    "        # x += 1 \n",
    "        # if (x>1):\n",
    "        #     break"
   ]
  }
 ],
 "metadata": {
  "kernelspec": {
   "display_name": "gdsc",
   "language": "python",
   "name": "python3"
  },
  "language_info": {
   "codemirror_mode": {
    "name": "ipython",
    "version": 3
   },
   "file_extension": ".py",
   "mimetype": "text/x-python",
   "name": "python",
   "nbconvert_exporter": "python",
   "pygments_lexer": "ipython3",
   "version": "3.11.7"
  }
 },
 "nbformat": 4,
 "nbformat_minor": 2
}
