{
 "cells": [
  {
   "cell_type": "code",
   "execution_count": 2,
   "metadata": {},
   "outputs": [],
   "source": [
    "import json\n",
    "from pprint import pprint\n",
    "def read_file(file_path):\n",
    "    with open(file_path, 'r') as file:\n",
    "        content = file.read()\n",
    "    return content"
   ]
  },
  {
   "cell_type": "code",
   "execution_count": 3,
   "metadata": {},
   "outputs": [],
   "source": [
    "file1_content = read_file('/home/bioinf/bhklab/jermiah/projects/PharmacoSet-Pipelines/DEPMAP/rawdata/23Q4/README.txt')\n",
    "file2_content = read_file('/home/bioinf/bhklab/jermiah/projects/PharmacoSet-Pipelines/DEPMAP/rawdata/23Q2/README.txt')\n"
   ]
  },
  {
   "cell_type": "code",
   "execution_count": 4,
   "metadata": {},
   "outputs": [
    {
     "name": "stdout",
     "output_type": "stream",
     "text": [
      "Found\n",
      "Found\n"
     ]
    }
   ],
   "source": [
    "c1 = \"- Columns: genes (HGNC symbol and Ensembl ID)\"\n",
    "c2 = \"Columns:\\n\"\n",
    "# check if c1 contains \"Columns: \"\n",
    "if c1.find(\"Columns: \"):\n",
    "    print(\"Found\")\n",
    "\n",
    "#\n",
    "if c2.find(\"Columns: \"):\n",
    "    print(\"Found\")"
   ]
  },
  {
   "cell_type": "code",
   "execution_count": 5,
   "metadata": {},
   "outputs": [],
   "source": [
    "# create global variables for column and row subsections\n",
    "column_subsection = False\n",
    "row_subsection = False\n",
    "\n",
    "def process_description(line_clean, subsection_dict):\n",
    "    global column_subsection\n",
    "    global row_subsection\n",
    "    # if there is a \"Rows\" in the line, set row_subsection to True\n",
    "\n",
    "    if \"Rows: \" in line_clean:\n",
    "        row_subsection = True\n",
    "        rows = line_clean.split(\"Rows: \")[1]\n",
    "        subsection_dict[\"Rows\"].append(rows)\n",
    "        if \"Columns: \" in line_clean:\n",
    "            column_subsection = True\n",
    "            # line_clean would look like '- Columns: Gene - Rows: ScreenID' \n",
    "            # only want to append \"Gene\" to Columns\n",
    "            columns = line_clean.split(\"Columns: \")[1].split(\" - Rows: \")[0]\n",
    "            subsection_dict[\"Columns\"].append(columns)\n",
    "        \n",
    "    elif line_clean.startswith(\"Columns: \"):\n",
    "        columns = line_clean.split(\"Columns: \")[1].split(\", \")\n",
    "        subsection_dict[\"Columns\"] += [col.strip() for col in columns]\n",
    "    # else:\n",
    "    #     subsection_dict[\"Description\"] += (line_clean + \" \")\n",
    "\n",
    "\n",
    "\n",
    "def parse_content(content):\n",
    "    sections = [\"Overview\", \"Pipelines\", \"Files\"]\n",
    "    dict_content = {section: \"\" if section == \"Overview\" else {} for section in sections}\n",
    "    \n",
    "    content_lines = content.split(\"\\n\")\n",
    "    section = None\n",
    "    subsection = None\n",
    "    \n",
    "    \n",
    "    \n",
    "    for line in content_lines:\n",
    "        # Skip empty lines\n",
    "        if not line.strip():\n",
    "            continue\n",
    "\n",
    "        line_clean = line.strip(\"# \")\n",
    "        # If line is a section heading\n",
    "        if line_clean in sections:\n",
    "            section = line_clean\n",
    "            continue\n",
    "        \n",
    "        if section is None:\n",
    "            continue    \n",
    "        # If line is a subsection heading\n",
    "        # Skip if we haven't reached a main section\n",
    "        if \"###\" in line:\n",
    "            \n",
    "            subsection = line_clean\n",
    "            # set global variables to False\n",
    "            global column_subsection\n",
    "            global row_subsection\n",
    "            column_subsection = False\n",
    "            row_subsection = False\n",
    "            \n",
    "            if section == \"Files\":\n",
    "                dict_content[section][subsection] = \\\n",
    "                    {\"Pipeline\": \"\", \"Description\": \"\", \"Columns\": [], \"Rows\": []}\n",
    "            elif section == \"Pipelines\":\n",
    "                dict_content[section][subsection] = {\"Description\": \"\"}\n",
    "            continue\n",
    "        \n",
    "        # For \"Overview\" section, content is combined into one string\n",
    "        if section == \"Overview\":\n",
    "            dict_content[section] += line_clean\n",
    "            continue\n",
    "            \n",
    "        # For \"Pipelines\" and \"Files\" sections, content is added under specific subsection\n",
    "\n",
    "        if section == \"Files\" and line_clean.startswith(\"Pipeline\"):\n",
    "            pipeline = line_clean.split(\"Pipeline: \")[1]\n",
    "            dict_content[section][subsection][\"Pipeline\"] += pipeline\n",
    "            continue\n",
    "        \n",
    "        # Below code only runs if we are in the \"Files\" section\n",
    "        if \"Columns:\" in line_clean:\n",
    "            column_subsection = True\n",
    "            process_description(line_clean, dict_content[section][subsection])\n",
    "        elif \"Rows:\" in line_clean:\n",
    "            row_subsection = True\n",
    "            process_description(line_clean, dict_content[section][subsection])\n",
    "        elif column_subsection:\n",
    "            dict_content[section][subsection][\"Columns\"] += [col.strip() for col in line_clean.strip(\"-\").split(\"\\n\")]\n",
    "        elif row_subsection:\n",
    "            dict_content[section][subsection][\"Rows\"] += [row for row in line_clean.strip(\"-\")]\n",
    "        else:\n",
    "            dict_content[section][subsection][\"Description\"] += (line_clean + \" \")\n",
    "                        \n",
    "\n",
    "    return dict_content\n",
    "\n"
   ]
  },
  {
   "cell_type": "code",
   "execution_count": 6,
   "metadata": {},
   "outputs": [
    {
     "name": "stdout",
     "output_type": "stream",
     "text": [
      "('This DepMap release contains data from CRISPR knockout screens from project '\n",
      " 'Achilles, as well as genomic characterization data from the CCLE project.')\n",
      "{'Description': 'DepMap expression data is quantified from RNAseq files using '\n",
      "                'the GTEx pipelines. A detailed description of the pipelines '\n",
      "                'and tool versions can be found here: '\n",
      "                'https://github.com/broadinstitute/ccle_processing#rnaseq. We '\n",
      "                'provide a subset of the data files outputted from this '\n",
      "                'pipeline available on FireCloud. These are aligned to hg38. '}\n",
      "{'Columns': [],\n",
      " 'Description': 'RNAseq transcript tpm data using RSEM. Log2 transformed, '\n",
      "                'using a pseudo-count of 1. ',\n",
      " 'Pipeline': 'Expression',\n",
      " 'Rows': ['Omics Profile IDs']}\n",
      "{'Columns': ['Gene'],\n",
      " 'Description': '_Post-Chronos_ Gene effect estimates for all screens Chronos '\n",
      "                'processed by library, copy number corrected, scaled, screen '\n",
      "                'quality corrected then concatenated. ',\n",
      " 'Pipeline': 'Achilles',\n",
      " 'Rows': ['ScreenID']}\n"
     ]
    }
   ],
   "source": [
    "output= parse_content(file1_content)\n",
    "pprint(output[\"Overview\"])\n",
    "pprint(output[\"Pipelines\"][\"Expression\"])\n",
    "pprint(output[\"Files\"]['OmicsExpressionTranscriptsTPMLogp1Profile.csv'])\n",
    "pprint(output[\"Files\"]['ScreenGeneEffect.csv'])\n",
    "\n",
    "# for file in ['OmicsExpressionTranscriptsTPMLogp1Profile.csv', 'Model.csv"
   ]
  },
  {
   "cell_type": "code",
   "execution_count": 7,
   "metadata": {},
   "outputs": [
    {
     "name": "stdout",
     "output_type": "stream",
     "text": [
      "['OmicsExpressionGenesExpectedCountProfile.csv',\n",
      " 'OmicsExpressionProteinCodingGenesTPMLogp1.csv',\n",
      " 'OmicsExpressionTranscriptsExpectedCountProfile.csv',\n",
      " 'OmicsExpressionTranscriptsTPMLogp1Profile.csv',\n",
      " 'OmicsExpressionAllGenesTPMLogp1Profile.csv',\n",
      " 'OmicsExpressionAllGenesEffectiveLengthProfile.csv',\n",
      " 'OmicsCNSegmentsProfile.csv',\n",
      " 'OmicsCNGene.csv',\n",
      " 'OmicsFusionFiltered.csv',\n",
      " 'OmicsFusionUnfilteredProfile.csv',\n",
      " 'OmicsSomaticMutations.csv',\n",
      " 'OmicsSomaticMutationsProfile.csv',\n",
      " 'OmicsSomaticMutationsMAFProfile.maf',\n",
      " 'OmicsSomaticMutationsMatrixHotspot.csv',\n",
      " 'OmicsSomaticMutationsMatrixDamaging.csv',\n",
      " 'OmicsExpressionGeneSetEnrichment.csv',\n",
      " 'OmicsExpressionGeneSetEnrichmentProfile.csv',\n",
      " 'OmicsProfiles.csv',\n",
      " 'OmicsDefaultModelProfiles.csv',\n",
      " 'OmicsDefaultModelConditionProfiles.csv',\n",
      " 'OmicsGuideMutationsBinaryKY.csv',\n",
      " 'OmicsGuideMutationsBinaryHumagne.csv',\n",
      " 'OmicsGuideMutationsBinaryAvana.csv']\n"
     ]
    }
   ],
   "source": [
    "from pprint import pprint \n",
    "omics = [_ for _ in output['Files'].keys() if _.startswith('Omics')]\n",
    "pprint(omics)"
   ]
  },
  {
   "cell_type": "code",
   "execution_count": 8,
   "metadata": {},
   "outputs": [],
   "source": [
    "omics_dicts = [\n",
    "    {_ :output['Files'][_] } for _ in omics]"
   ]
  },
  {
   "cell_type": "code",
   "execution_count": 9,
   "metadata": {},
   "outputs": [
    {
     "name": "stdout",
     "output_type": "stream",
     "text": [
      "[{'OmicsExpressionGenesExpectedCountProfile.csv': {'Columns': [], 'Description': 'RNAseq read count data from RSEM. ', 'Pipeline': 'Expression', 'Rows': ['Omics Profile IDs']}},\n",
      " {'OmicsExpressionProteinCodingGenesTPMLogp1.csv': {'Columns': [],\n",
      "                                                    'Description': 'Gene expression TPM values of the protein coding genes for DepMap cell lines. Values are inferred from RNA-seq data using the RSEM tool and are reported after log2 transformation, using a pseudo-count of 1; log2(TPM+1). Additional '\n",
      "                                                                   'RNA-seq-based expression measurements are available for download as part of the full DepMap Data Release More information on the DepMap Omics processing pipeline is available at <https://github.com/broadinstitute/depmap_omics>. ',\n",
      "                                                    'Pipeline': 'Expression',\n",
      "                                                    'Rows': []}},\n",
      " {'OmicsExpressionTranscriptsExpectedCountProfile.csv': {'Columns': [], 'Description': 'RNAseq read count data from RSEM. ', 'Pipeline': 'Expression', 'Rows': ['Omics Profile IDs']}},\n",
      " {'OmicsExpressionTranscriptsTPMLogp1Profile.csv': {'Columns': [], 'Description': 'RNAseq transcript tpm data using RSEM. Log2 transformed, using a pseudo-count of 1. ', 'Pipeline': 'Expression', 'Rows': ['Omics Profile IDs']}}]\n"
     ]
    }
   ],
   "source": [
    "pprint(omics_dicts[0:4], width = 300)"
   ]
  },
  {
   "cell_type": "code",
   "execution_count": 11,
   "metadata": {},
   "outputs": [
    {
     "ename": "AttributeError",
     "evalue": "'list' object has no attribute 'items'",
     "output_type": "error",
     "traceback": [
      "\u001b[0;31m---------------------------------------------------------------------------\u001b[0m",
      "\u001b[0;31mAttributeError\u001b[0m                            Traceback (most recent call last)",
      "Cell \u001b[0;32mIn[11], line 2\u001b[0m\n\u001b[1;32m      1\u001b[0m \u001b[38;5;28;01mimport\u001b[39;00m \u001b[38;5;21;01mpandas\u001b[39;00m \u001b[38;5;28;01mas\u001b[39;00m \u001b[38;5;21;01mpd\u001b[39;00m\n\u001b[0;32m----> 2\u001b[0m df \u001b[38;5;241m=\u001b[39m pd\u001b[38;5;241m.\u001b[39mDataFrame(\u001b[43momics_dicts\u001b[49m\u001b[38;5;241;43m.\u001b[39;49m\u001b[43mitems\u001b[49m())\n\u001b[1;32m      3\u001b[0m df\n",
      "\u001b[0;31mAttributeError\u001b[0m: 'list' object has no attribute 'items'"
     ]
    }
   ],
   "source": [
    "import pandas as pd\n",
    "\n",
    "# convert list of dictionaries to dataframe\n"
   ]
  },
  {
   "cell_type": "code",
   "execution_count": null,
   "metadata": {},
   "outputs": [],
   "source": []
  }
 ],
 "metadata": {
  "kernelspec": {
   "display_name": "gdsc",
   "language": "python",
   "name": "python3"
  },
  "language_info": {
   "codemirror_mode": {
    "name": "ipython",
    "version": 3
   },
   "file_extension": ".py",
   "mimetype": "text/x-python",
   "name": "python",
   "nbconvert_exporter": "python",
   "pygments_lexer": "ipython3",
   "version": "3.1.0"
  }
 },
 "nbformat": 4,
 "nbformat_minor": 2
}
